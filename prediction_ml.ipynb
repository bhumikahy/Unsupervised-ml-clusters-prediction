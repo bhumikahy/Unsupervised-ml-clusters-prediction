{
 "cells": [
  {
   "cell_type": "markdown",
   "id": "2118c94d",
   "metadata": {},
   "source": [
    "# Prediction using unsupervised Machine Learning\n",
    "Predict the optimum number of clusters from the 'iris' dataset and represent it visually"
   ]
  },
  {
   "cell_type": "markdown",
   "id": "f164c3bf",
   "metadata": {},
   "source": [
    "### Author: Bhumika H Yogesh"
   ]
  },
  {
   "cell_type": "markdown",
   "id": "7df10d7c",
   "metadata": {},
   "source": [
    "## Import the libraries"
   ]
  },
  {
   "cell_type": "code",
   "execution_count": 9,
   "id": "83beff5e",
   "metadata": {},
   "outputs": [],
   "source": [
    "import pandas as pd\n",
    "import seaborn as sns\n",
    "import matplotlib.pyplot as plt\n",
    "from sklearn.cluster import KMeans\n",
    "from sklearn import datasets\n",
    "import warnings\n",
    "warnings.filterwarnings('ignore')\n",
    "sns.set()"
   ]
  },
  {
   "cell_type": "markdown",
   "id": "bbd0c8fd",
   "metadata": {},
   "source": [
    "## Import the datasets"
   ]
  },
  {
   "cell_type": "code",
   "execution_count": 16,
   "id": "af804ba3",
   "metadata": {},
   "outputs": [],
   "source": [
    "# Load the iris datset\n",
    "df = pd.read_csv('iris.csv')"
   ]
  },
  {
   "cell_type": "code",
   "execution_count": 17,
   "id": "53f0c883",
   "metadata": {},
   "outputs": [
    {
     "data": {
      "text/html": [
       "<div>\n",
       "<style scoped>\n",
       "    .dataframe tbody tr th:only-of-type {\n",
       "        vertical-align: middle;\n",
       "    }\n",
       "\n",
       "    .dataframe tbody tr th {\n",
       "        vertical-align: top;\n",
       "    }\n",
       "\n",
       "    .dataframe thead th {\n",
       "        text-align: right;\n",
       "    }\n",
       "</style>\n",
       "<table border=\"1\" class=\"dataframe\">\n",
       "  <thead>\n",
       "    <tr style=\"text-align: right;\">\n",
       "      <th></th>\n",
       "      <th>sepal_length</th>\n",
       "      <th>sepal_width</th>\n",
       "      <th>petal_length</th>\n",
       "      <th>petal_width</th>\n",
       "      <th>class</th>\n",
       "    </tr>\n",
       "  </thead>\n",
       "  <tbody>\n",
       "    <tr>\n",
       "      <th>0</th>\n",
       "      <td>5.1</td>\n",
       "      <td>3.5</td>\n",
       "      <td>1.4</td>\n",
       "      <td>0.2</td>\n",
       "      <td>Iris-setosa</td>\n",
       "    </tr>\n",
       "    <tr>\n",
       "      <th>1</th>\n",
       "      <td>4.9</td>\n",
       "      <td>3.0</td>\n",
       "      <td>1.4</td>\n",
       "      <td>0.2</td>\n",
       "      <td>Iris-setosa</td>\n",
       "    </tr>\n",
       "    <tr>\n",
       "      <th>2</th>\n",
       "      <td>4.7</td>\n",
       "      <td>3.2</td>\n",
       "      <td>1.3</td>\n",
       "      <td>0.2</td>\n",
       "      <td>Iris-setosa</td>\n",
       "    </tr>\n",
       "    <tr>\n",
       "      <th>3</th>\n",
       "      <td>4.6</td>\n",
       "      <td>3.1</td>\n",
       "      <td>1.5</td>\n",
       "      <td>0.2</td>\n",
       "      <td>Iris-setosa</td>\n",
       "    </tr>\n",
       "    <tr>\n",
       "      <th>4</th>\n",
       "      <td>5.0</td>\n",
       "      <td>3.6</td>\n",
       "      <td>1.4</td>\n",
       "      <td>0.2</td>\n",
       "      <td>Iris-setosa</td>\n",
       "    </tr>\n",
       "  </tbody>\n",
       "</table>\n",
       "</div>"
      ],
      "text/plain": [
       "   sepal_length  sepal_width  petal_length  petal_width        class\n",
       "0           5.1          3.5           1.4          0.2  Iris-setosa\n",
       "1           4.9          3.0           1.4          0.2  Iris-setosa\n",
       "2           4.7          3.2           1.3          0.2  Iris-setosa\n",
       "3           4.6          3.1           1.5          0.2  Iris-setosa\n",
       "4           5.0          3.6           1.4          0.2  Iris-setosa"
      ]
     },
     "execution_count": 17,
     "metadata": {},
     "output_type": "execute_result"
    }
   ],
   "source": [
    "df.head()"
   ]
  },
  {
   "cell_type": "markdown",
   "id": "bdf588f4",
   "metadata": {},
   "source": [
    "## Exploratory Data Analysis"
   ]
  },
  {
   "cell_type": "code",
   "execution_count": 21,
   "id": "4969b949",
   "metadata": {},
   "outputs": [
    {
     "data": {
      "text/plain": [
       "(150, 5)"
      ]
     },
     "execution_count": 21,
     "metadata": {},
     "output_type": "execute_result"
    }
   ],
   "source": [
    "# Check number of rows & columns\n",
    "df.shape"
   ]
  },
  {
   "cell_type": "code",
   "execution_count": 20,
   "id": "0244752e",
   "metadata": {},
   "outputs": [
    {
     "name": "stdout",
     "output_type": "stream",
     "text": [
      "<class 'pandas.core.frame.DataFrame'>\n",
      "RangeIndex: 150 entries, 0 to 149\n",
      "Data columns (total 5 columns):\n",
      " #   Column        Non-Null Count  Dtype  \n",
      "---  ------        --------------  -----  \n",
      " 0   sepal_length  150 non-null    float64\n",
      " 1   sepal_width   150 non-null    float64\n",
      " 2   petal_length  150 non-null    float64\n",
      " 3   petal_width   150 non-null    float64\n",
      " 4   class         150 non-null    object \n",
      "dtypes: float64(4), object(1)\n",
      "memory usage: 6.0+ KB\n"
     ]
    }
   ],
   "source": [
    "# Basic summary of the data\n",
    "df.info()"
   ]
  },
  {
   "cell_type": "code",
   "execution_count": 22,
   "id": "2ee45c15",
   "metadata": {},
   "outputs": [
    {
     "data": {
      "text/plain": [
       "sepal_length    0\n",
       "sepal_width     0\n",
       "petal_length    0\n",
       "petal_width     0\n",
       "class           0\n",
       "dtype: int64"
      ]
     },
     "execution_count": 22,
     "metadata": {},
     "output_type": "execute_result"
    }
   ],
   "source": [
    "# Check for null values\n",
    "df.isnull().sum()"
   ]
  },
  {
   "cell_type": "markdown",
   "id": "15d8e760",
   "metadata": {},
   "source": [
    "## Independent variable\n",
    "Since we are using unsupervised machine learning algorithm, we dont need any dependent variables.\n",
    "\n",
    "Unsupervised learning is where you only have input data (X) and no corresponding output variables.\n",
    "\n",
    "The goal for unsupervised learning is to model the underlying structure or distribution in the data in order to learn more about the data.\n",
    "\n",
    "These are called unsupervised learning because unlike supervised learning above there is no correct answers and there is no teacher. Algorithms are left to their own devises to discover and present the interesting structure in the data.\n",
    "It can be further grouped into clustering and association problems.\n",
    "\n",
    "Some popular examples of unsupervised learning algorithms are:\n",
    "\n",
    "k-means for clustering problems.\n",
    "Apriori algorithm for association rule learning problems.\n",
    "LDA for topic modeling of text passages, i.e., discover and associate keywords to text."
   ]
  },
  {
   "cell_type": "code",
   "execution_count": 33,
   "id": "f77bacc5",
   "metadata": {},
   "outputs": [],
   "source": [
    "# Extract independent variable\n",
    "x = df.iloc[:, 1:4].values"
   ]
  },
  {
   "cell_type": "markdown",
   "id": "b34309df",
   "metadata": {},
   "source": [
    "## Using elbow method, find the optimum number of clusters"
   ]
  },
  {
   "cell_type": "code",
   "execution_count": 34,
   "id": "f5ddc76a",
   "metadata": {},
   "outputs": [],
   "source": [
    "# Elbow method (wcss concept)\n",
    "wcss = [] # Within Cluster Sum of Squares\n",
    "\n",
    "for i in range(1,8):\n",
    "    km = KMeans(i)\n",
    "    km.fit_predict(x)\n",
    "    wcss.append(km.inertia_)"
   ]
  },
  {
   "cell_type": "code",
   "execution_count": 35,
   "id": "02dd0357",
   "metadata": {},
   "outputs": [
    {
     "data": {
      "text/plain": [
       "[578.6560666666668,\n",
       " 105.16576351752823,\n",
       " 47.955829064632695,\n",
       " 34.266958907496914,\n",
       " 28.48774490689197,\n",
       " 24.1530816230567,\n",
       " 20.65212700869822]"
      ]
     },
     "execution_count": 35,
     "metadata": {},
     "output_type": "execute_result"
    }
   ],
   "source": [
    "wcss"
   ]
  },
  {
   "cell_type": "code",
   "execution_count": 36,
   "id": "024fa67a",
   "metadata": {},
   "outputs": [
    {
     "data": {
      "image/png": "[encoded data removed]",
      "text/plain": [
       "<Figure size 504x360 with 1 Axes>"
      ]
     },
     "metadata": {},
     "output_type": "display_data"
    }
   ],
   "source": [
    "# Draw a plot btw number of clusters and wcss\n",
    "# WCSS on Y axis ranging for different K values\n",
    "\n",
    "plt.figure(figsize = (7,5))\n",
    "plt.plot(range(1,8), wcss, mec='red', marker='o', mfc='red', ms=10, color='blue')\n",
    "plt.xlabel('No of clusters', fontsize=18)\n",
    "plt.ylabel('WCSS', fontsize=18)\n",
    "plt.title('Elbow method', fontsize=18)\n",
    "plt.show()"
   ]
  },
  {
   "cell_type": "markdown",
   "id": "8923b69b",
   "metadata": {},
   "source": [
    "## Predict the optimum number of clusters from the iris dataset\n",
    "In the above plot (elbow method), we can see that our elbow point is at 3. Therefore 3 is our optimum cluster. "
   ]
  },
  {
   "cell_type": "markdown",
   "id": "5cd82e53",
   "metadata": {},
   "source": [
    "## Train the K - means algorithm on the training datset"
   ]
  },
  {
   "cell_type": "code",
   "execution_count": 37,
   "id": "2188dd29",
   "metadata": {},
   "outputs": [],
   "source": [
    "km = KMeans(n_clusters = 3, init = 'k-means++', max_iter = 300, n_init = 10, random_state = 0)"
   ]
  },
  {
   "cell_type": "code",
   "execution_count": 38,
   "id": "78621954",
   "metadata": {},
   "outputs": [
    {
     "data": {
      "text/plain": [
       "array([0, 0, 0, 0, 0, 0, 0, 0, 0, 0, 0, 0, 0, 0, 0, 0, 0, 0, 0, 0, 0, 0,\n",
       "       0, 0, 0, 0, 0, 0, 0, 0, 0, 0, 0, 0, 0, 0, 0, 0, 0, 0, 0, 0, 0, 0,\n",
       "       0, 0, 0, 0, 0, 0, 1, 1, 1, 1, 1, 1, 1, 1, 1, 1, 1, 1, 1, 1, 1, 1,\n",
       "       1, 1, 1, 1, 1, 1, 1, 1, 1, 1, 1, 2, 1, 1, 1, 1, 1, 2, 1, 1, 1, 1,\n",
       "       1, 1, 1, 1, 1, 1, 1, 1, 1, 1, 1, 1, 2, 2, 2, 2, 2, 2, 1, 2, 2, 2,\n",
       "       2, 2, 2, 2, 2, 2, 2, 2, 2, 1, 2, 2, 2, 1, 2, 2, 1, 2, 2, 2, 2, 2,\n",
       "       2, 2, 2, 2, 2, 2, 1, 2, 2, 2, 2, 2, 2, 2, 2, 2, 2, 2], dtype=int32)"
      ]
     },
     "execution_count": 38,
     "metadata": {},
     "output_type": "execute_result"
    }
   ],
   "source": [
    "y_pred = km.fit_predict(x)\n",
    "y_pred"
   ]
  },
  {
   "cell_type": "code",
   "execution_count": 39,
   "id": "d69e165f",
   "metadata": {},
   "outputs": [
    {
     "data": {
      "text/plain": [
       "array([[3.418     , 1.464     , 0.244     ],\n",
       "       [2.75471698, 4.28113208, 1.3509434 ],\n",
       "       [3.00425532, 5.6106383 , 2.04255319]])"
      ]
     },
     "execution_count": 39,
     "metadata": {},
     "output_type": "execute_result"
    }
   ],
   "source": [
    "# Cluster centroids\n",
    "km.cluster_centers_"
   ]
  },
  {
   "cell_type": "markdown",
   "id": "75263193",
   "metadata": {},
   "source": [
    "## Visualize the Clusters"
   ]
  },
  {
   "cell_type": "code",
   "execution_count": 48,
   "id": "85c043de",
   "metadata": {},
   "outputs": [
    {
     "data": {
      "image/png": "[encoded data removed]",
      "text/plain": [
       "<Figure size 720x504 with 1 Axes>"
      ]
     },
     "metadata": {},
     "output_type": "display_data"
    }
   ],
   "source": [
    "plt.figure(figsize = (10,7))\n",
    "\n",
    "# Visualize Cluster - 1 with label 'Iris-setosa'\n",
    "plt.scatter(x[y_pred==0,0], x[y_pred==0,1], color=\"Navy\", s=50, label=\"Iris-setosa\")\n",
    "\n",
    "# Visualize Cluster - 2 with label 'Iris-versicolour'\n",
    "plt.scatter(x[y_pred==1,0], x[y_pred==1,1], color=\"DarkRed\", s=50, label=\"Iris-versicolour\")\n",
    "\n",
    "# Visualize Cluster - 3 with label 'Iris-virginica'\n",
    "plt.scatter(x[y_pred==2,0], x[y_pred==2,1], color=\"DarkGreen\", s=50, label=\"Iris-virginica\")\n",
    "\n",
    "# Plot the centroid. With label 'Centroids'\n",
    "plt.plot(km.cluster_centers_[:,0], km.cluster_centers_[:,1], 'o', color=\"yellow\",\n",
    "         label='Centroids', markeredgecolor = 'black', ms=15)\n",
    "\n",
    "plt.title('Cluster of Species', fontsize=17)\n",
    "plt.legend()\n",
    "plt.show()"
   ]
  },
  {
   "cell_type": "code",
   "execution_count": null,
   "id": "52c9dd07",
   "metadata": {},
   "outputs": [],
   "source": []
  }
 ],
 "metadata": {
  "kernelspec": {
   "display_name": "Python 3",
   "language": "python",
   "name": "python3"
  },
  "language_info": {
   "codemirror_mode": {
    "name": "ipython",
    "version": 3
   },
   "file_extension": ".py",
   "mimetype": "text/x-python",
   "name": "python",
   "nbconvert_exporter": "python",
   "pygments_lexer": "ipython3",
   "version": "3.8.8"
  }
 },
 "nbformat": 4,
 "nbformat_minor": 5
}
